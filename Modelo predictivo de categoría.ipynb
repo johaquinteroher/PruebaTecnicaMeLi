{
 "cells": [
  {
   "cell_type": "code",
   "execution_count": 1,
   "metadata": {},
   "outputs": [],
   "source": [
    "import pandas as pd\n",
    "import numpy as np\n",
    "from pycaret.classification import *\n",
    "from sklearn.feature_extraction.text import TfidfVectorizer\n",
    "from pycaret.classification import setup, compare_models\n",
    "import pickle"
   ]
  },
  {
   "cell_type": "code",
   "execution_count": 2,
   "metadata": {},
   "outputs": [],
   "source": [
    "# Cargo datos\n",
    "file_path = \"productos_todas_categorias.csv\"\n",
    "df = pd.read_csv(file_path)"
   ]
  },
  {
   "cell_type": "code",
   "execution_count": 3,
   "metadata": {},
   "outputs": [],
   "source": [
    "# Cuento categorías antes de filtrar\n",
    "category_counts = df['category_id'].value_counts()"
   ]
  },
  {
   "cell_type": "code",
   "execution_count": 4,
   "metadata": {},
   "outputs": [],
   "source": [
    "# Filtro subcategorías con al menos 50 productos\n",
    "valid_categories = category_counts[category_counts >= 50].index\n",
    "df = df[df['category_id'].isin(valid_categories)]"
   ]
  },
  {
   "cell_type": "code",
   "execution_count": 5,
   "metadata": {},
   "outputs": [],
   "source": [
    "# Selecciono solo las columnas necesarias\n",
    "df = df[['title', 'category_id']]"
   ]
  },
  {
   "cell_type": "code",
   "execution_count": 6,
   "metadata": {},
   "outputs": [],
   "source": [
    "# Limpio texto\n",
    "df['title'] = df['title'].str.lower().str.replace(r'[^a-zA-Z0-9 ]', '', regex=True)"
   ]
  },
  {
   "cell_type": "code",
   "execution_count": 7,
   "metadata": {},
   "outputs": [],
   "source": [
    "# Convierto títulos a vectores TF-IDF\n",
    "vectorizer = TfidfVectorizer(max_features=5000)\n",
    "X_tfidf = vectorizer.fit_transform(df['title']).toarray()"
   ]
  },
  {
   "cell_type": "code",
   "execution_count": 8,
   "metadata": {},
   "outputs": [
    {
     "name": "stdout",
     "output_type": "stream",
     "text": [
      "🔹 Columnas en el vectorizador después del entrenamiento:\n",
      "['01' '012' '030' ... 'zsn' 'zte' 'zve10']\n"
     ]
    }
   ],
   "source": [
    "# Imprimo las columnas del vectorizador después del entrenamiento\n",
    "print(\"🔹 Columnas en el vectorizador después del entrenamiento:\")\n",
    "print(vectorizer.get_feature_names_out())"
   ]
  },
  {
   "cell_type": "code",
   "execution_count": 9,
   "metadata": {},
   "outputs": [],
   "source": [
    "# Convierto a DataFrame\n",
    "X_df = pd.DataFrame(X_tfidf, columns=vectorizer.get_feature_names_out())\n",
    "X_df['category_id'] = df['category_id'].values  "
   ]
  },
  {
   "cell_type": "code",
   "execution_count": 10,
   "metadata": {},
   "outputs": [
    {
     "name": "stdout",
     "output_type": "stream",
     "text": [
      "category_id\n",
      "MCO1196      981\n",
      "MCO1744      953\n",
      "MCO1176      798\n",
      "MCO1442      763\n",
      "MCO1055      589\n",
      "            ... \n",
      "MCO90075      52\n",
      "MCO173191     52\n",
      "MCO180874     52\n",
      "MCO388859     52\n",
      "MCO167689     51\n",
      "Name: count, Length: 107, dtype: int64\n"
     ]
    }
   ],
   "source": [
    "# imprimo valores de category_id\n",
    "print(X_df['category_id'].value_counts())"
   ]
  },
  {
   "cell_type": "code",
   "execution_count": 11,
   "metadata": {},
   "outputs": [],
   "source": [
    "# Configuro PyCaret\n",
    "clf = setup(X_df, target='category_id', session_id=123, train_size=0.8, verbose=False, data_split_stratify=True)"
   ]
  },
  {
   "cell_type": "code",
   "execution_count": 12,
   "metadata": {},
   "outputs": [
    {
     "data": {
      "text/html": [],
      "text/plain": [
       "<IPython.core.display.HTML object>"
      ]
     },
     "metadata": {},
     "output_type": "display_data"
    },
    {
     "data": {
      "text/html": [
       "<style type=\"text/css\">\n",
       "#T_891ed th {\n",
       "  text-align: left;\n",
       "}\n",
       "#T_891ed_row0_col0, #T_891ed_row1_col0, #T_891ed_row1_col1, #T_891ed_row1_col2, #T_891ed_row1_col3, #T_891ed_row1_col4, #T_891ed_row1_col5, #T_891ed_row1_col6, #T_891ed_row1_col7, #T_891ed_row2_col0, #T_891ed_row2_col1, #T_891ed_row2_col2, #T_891ed_row2_col3, #T_891ed_row2_col4, #T_891ed_row2_col5, #T_891ed_row2_col6, #T_891ed_row2_col7 {\n",
       "  text-align: left;\n",
       "}\n",
       "#T_891ed_row0_col1, #T_891ed_row0_col2, #T_891ed_row0_col3, #T_891ed_row0_col4, #T_891ed_row0_col5, #T_891ed_row0_col6, #T_891ed_row0_col7 {\n",
       "  text-align: left;\n",
       "  background-color: yellow;\n",
       "}\n",
       "#T_891ed_row0_col8, #T_891ed_row1_col8 {\n",
       "  text-align: left;\n",
       "  background-color: lightgrey;\n",
       "}\n",
       "#T_891ed_row2_col8 {\n",
       "  text-align: left;\n",
       "  background-color: yellow;\n",
       "  background-color: lightgrey;\n",
       "}\n",
       "</style>\n",
       "<table id=\"T_891ed\">\n",
       "  <thead>\n",
       "    <tr>\n",
       "      <th class=\"blank level0\" >&nbsp;</th>\n",
       "      <th id=\"T_891ed_level0_col0\" class=\"col_heading level0 col0\" >Model</th>\n",
       "      <th id=\"T_891ed_level0_col1\" class=\"col_heading level0 col1\" >Accuracy</th>\n",
       "      <th id=\"T_891ed_level0_col2\" class=\"col_heading level0 col2\" >AUC</th>\n",
       "      <th id=\"T_891ed_level0_col3\" class=\"col_heading level0 col3\" >Recall</th>\n",
       "      <th id=\"T_891ed_level0_col4\" class=\"col_heading level0 col4\" >Prec.</th>\n",
       "      <th id=\"T_891ed_level0_col5\" class=\"col_heading level0 col5\" >F1</th>\n",
       "      <th id=\"T_891ed_level0_col6\" class=\"col_heading level0 col6\" >Kappa</th>\n",
       "      <th id=\"T_891ed_level0_col7\" class=\"col_heading level0 col7\" >MCC</th>\n",
       "      <th id=\"T_891ed_level0_col8\" class=\"col_heading level0 col8\" >TT (Sec)</th>\n",
       "    </tr>\n",
       "  </thead>\n",
       "  <tbody>\n",
       "    <tr>\n",
       "      <th id=\"T_891ed_level0_row0\" class=\"row_heading level0 row0\" >rf</th>\n",
       "      <td id=\"T_891ed_row0_col0\" class=\"data row0 col0\" >Random Forest Classifier</td>\n",
       "      <td id=\"T_891ed_row0_col1\" class=\"data row0 col1\" >0.8877</td>\n",
       "      <td id=\"T_891ed_row0_col2\" class=\"data row0 col2\" >0.9930</td>\n",
       "      <td id=\"T_891ed_row0_col3\" class=\"data row0 col3\" >0.8877</td>\n",
       "      <td id=\"T_891ed_row0_col4\" class=\"data row0 col4\" >0.8941</td>\n",
       "      <td id=\"T_891ed_row0_col5\" class=\"data row0 col5\" >0.8854</td>\n",
       "      <td id=\"T_891ed_row0_col6\" class=\"data row0 col6\" >0.8853</td>\n",
       "      <td id=\"T_891ed_row0_col7\" class=\"data row0 col7\" >0.8854</td>\n",
       "      <td id=\"T_891ed_row0_col8\" class=\"data row0 col8\" >15.7700</td>\n",
       "    </tr>\n",
       "    <tr>\n",
       "      <th id=\"T_891ed_level0_row1\" class=\"row_heading level0 row1\" >dt</th>\n",
       "      <td id=\"T_891ed_row1_col0\" class=\"data row1 col0\" >Decision Tree Classifier</td>\n",
       "      <td id=\"T_891ed_row1_col1\" class=\"data row1 col1\" >0.8389</td>\n",
       "      <td id=\"T_891ed_row1_col2\" class=\"data row1 col2\" >0.9216</td>\n",
       "      <td id=\"T_891ed_row1_col3\" class=\"data row1 col3\" >0.8389</td>\n",
       "      <td id=\"T_891ed_row1_col4\" class=\"data row1 col4\" >0.8493</td>\n",
       "      <td id=\"T_891ed_row1_col5\" class=\"data row1 col5\" >0.8372</td>\n",
       "      <td id=\"T_891ed_row1_col6\" class=\"data row1 col6\" >0.8355</td>\n",
       "      <td id=\"T_891ed_row1_col7\" class=\"data row1 col7\" >0.8357</td>\n",
       "      <td id=\"T_891ed_row1_col8\" class=\"data row1 col8\" >11.8520</td>\n",
       "    </tr>\n",
       "    <tr>\n",
       "      <th id=\"T_891ed_level0_row2\" class=\"row_heading level0 row2\" >knn</th>\n",
       "      <td id=\"T_891ed_row2_col0\" class=\"data row2 col0\" >K Neighbors Classifier</td>\n",
       "      <td id=\"T_891ed_row2_col1\" class=\"data row2 col1\" >0.6487</td>\n",
       "      <td id=\"T_891ed_row2_col2\" class=\"data row2 col2\" >0.9137</td>\n",
       "      <td id=\"T_891ed_row2_col3\" class=\"data row2 col3\" >0.6487</td>\n",
       "      <td id=\"T_891ed_row2_col4\" class=\"data row2 col4\" >0.8876</td>\n",
       "      <td id=\"T_891ed_row2_col5\" class=\"data row2 col5\" >0.7103</td>\n",
       "      <td id=\"T_891ed_row2_col6\" class=\"data row2 col6\" >0.6385</td>\n",
       "      <td id=\"T_891ed_row2_col7\" class=\"data row2 col7\" >0.6706</td>\n",
       "      <td id=\"T_891ed_row2_col8\" class=\"data row2 col8\" >9.9790</td>\n",
       "    </tr>\n",
       "  </tbody>\n",
       "</table>\n"
      ],
      "text/plain": [
       "<pandas.io.formats.style.Styler at 0x1d11d7f7f10>"
      ]
     },
     "metadata": {},
     "output_type": "display_data"
    },
    {
     "data": {
      "text/html": [],
      "text/plain": [
       "<IPython.core.display.HTML object>"
      ]
     },
     "metadata": {},
     "output_type": "display_data"
    }
   ],
   "source": [
    "# #Comparo modelos\n",
    "best_model = compare_models(exclude=['dummy', 'ridge','lr', 'lda','nb', 'svm', 'ada', 'xgboost', 'lightgbm', 'qda','gbc', 'rbfsvm','gpc','mlp','et'])"
   ]
  },
  {
   "cell_type": "code",
   "execution_count": 13,
   "metadata": {},
   "outputs": [
    {
     "name": "stdout",
     "output_type": "stream",
     "text": [
      "Métricas del modelo sin ajuste de hiperparámetros:\n"
     ]
    },
    {
     "data": {
      "text/html": [
       "<style type=\"text/css\">\n",
       "</style>\n",
       "<table id=\"T_581e2\">\n",
       "  <thead>\n",
       "    <tr>\n",
       "      <th class=\"blank level0\" >&nbsp;</th>\n",
       "      <th id=\"T_581e2_level0_col0\" class=\"col_heading level0 col0\" >Model</th>\n",
       "      <th id=\"T_581e2_level0_col1\" class=\"col_heading level0 col1\" >Accuracy</th>\n",
       "      <th id=\"T_581e2_level0_col2\" class=\"col_heading level0 col2\" >AUC</th>\n",
       "      <th id=\"T_581e2_level0_col3\" class=\"col_heading level0 col3\" >Recall</th>\n",
       "      <th id=\"T_581e2_level0_col4\" class=\"col_heading level0 col4\" >Prec.</th>\n",
       "      <th id=\"T_581e2_level0_col5\" class=\"col_heading level0 col5\" >F1</th>\n",
       "      <th id=\"T_581e2_level0_col6\" class=\"col_heading level0 col6\" >Kappa</th>\n",
       "      <th id=\"T_581e2_level0_col7\" class=\"col_heading level0 col7\" >MCC</th>\n",
       "    </tr>\n",
       "  </thead>\n",
       "  <tbody>\n",
       "    <tr>\n",
       "      <th id=\"T_581e2_level0_row0\" class=\"row_heading level0 row0\" >0</th>\n",
       "      <td id=\"T_581e2_row0_col0\" class=\"data row0 col0\" >Random Forest Classifier</td>\n",
       "      <td id=\"T_581e2_row0_col1\" class=\"data row0 col1\" >0.8979</td>\n",
       "      <td id=\"T_581e2_row0_col2\" class=\"data row0 col2\" >0.9938</td>\n",
       "      <td id=\"T_581e2_row0_col3\" class=\"data row0 col3\" >0.8979</td>\n",
       "      <td id=\"T_581e2_row0_col4\" class=\"data row0 col4\" >0.9024</td>\n",
       "      <td id=\"T_581e2_row0_col5\" class=\"data row0 col5\" >0.8972</td>\n",
       "      <td id=\"T_581e2_row0_col6\" class=\"data row0 col6\" >0.8957</td>\n",
       "      <td id=\"T_581e2_row0_col7\" class=\"data row0 col7\" >0.8959</td>\n",
       "    </tr>\n",
       "  </tbody>\n",
       "</table>\n"
      ],
      "text/plain": [
       "<pandas.io.formats.style.Styler at 0x1d11f5b9490>"
      ]
     },
     "metadata": {},
     "output_type": "display_data"
    }
   ],
   "source": [
    "# Imprimo métricas del modelo sin ajustar\n",
    "print(\"Métricas del modelo sin ajuste de hiperparámetros:\")\n",
    "metrics_no_tuning = predict_model(best_model)"
   ]
  },
  {
   "cell_type": "code",
   "execution_count": 14,
   "metadata": {},
   "outputs": [],
   "source": [
    "# Finalizo el modelo sin tuning (entrenado con todos los datos)\n",
    "final_model = finalize_model(best_model)"
   ]
  },
  {
   "cell_type": "code",
   "execution_count": 15,
   "metadata": {},
   "outputs": [
    {
     "name": "stdout",
     "output_type": "stream",
     "text": [
      "Transformation Pipeline and Model Successfully Saved\n",
      "✅ Vectorizador TF-IDF guardado correctamente.\n"
     ]
    }
   ],
   "source": [
    "# Guardo el modelo para futuras predicciones\n",
    "save_model(final_model, 'modelo_Predicción_Category')\n",
    "\n",
    "# Guardo el vectorizador entrenado para futuras predicciones\n",
    "with open(\"tfidf_vectorizer.pkl\", \"wb\") as f:\n",
    "    pickle.dump(vectorizer, f)\n",
    "\n",
    "print(\"Vectorizador TF-IDF guardado correctamente.\")"
   ]
  },
  {
   "cell_type": "code",
   "execution_count": 16,
   "metadata": {},
   "outputs": [
    {
     "data": {
      "application/vnd.jupyter.widget-view+json": {
       "model_id": "c89b6a738b0e45c7ac09af205fe77a17",
       "version_major": 2,
       "version_minor": 0
      },
      "text/plain": [
       "interactive(children=(ToggleButtons(description='Plot Type:', icons=('',), options=(('Pipeline Plot', 'pipelin…"
      ]
     },
     "metadata": {},
     "output_type": "display_data"
    }
   ],
   "source": [
    "# Evaluo el modelo\n",
    "evaluate_model(best_model)"
   ]
  }
 ],
 "metadata": {
  "kernelspec": {
   "display_name": "myenv",
   "language": "python",
   "name": "python3"
  },
  "language_info": {
   "codemirror_mode": {
    "name": "ipython",
    "version": 3
   },
   "file_extension": ".py",
   "mimetype": "text/x-python",
   "name": "python",
   "nbconvert_exporter": "python",
   "pygments_lexer": "ipython3",
   "version": "3.11.7"
  }
 },
 "nbformat": 4,
 "nbformat_minor": 2
}
